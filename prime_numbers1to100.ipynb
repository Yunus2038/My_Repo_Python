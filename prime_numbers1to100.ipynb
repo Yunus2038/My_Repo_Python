{
  "nbformat": 4,
  "nbformat_minor": 0,
  "metadata": {
    "colab": {
      "name": "prime_numbers1to100.ipynb",
      "provenance": [],
      "authorship_tag": "ABX9TyMBNp+LWguyvFsws0i7l/WR",
      "include_colab_link": true
    },
    "kernelspec": {
      "name": "python3",
      "display_name": "Python 3"
    },
    "language_info": {
      "name": "python"
    }
  },
  "cells": [
    {
      "cell_type": "markdown",
      "metadata": {
        "id": "view-in-github",
        "colab_type": "text"
      },
      "source": [
        "<a href=\"https://colab.research.google.com/github/Yunus2038/my_demo_repo/blob/main/prime_numbers1to100.ipynb\" target=\"_parent\"><img src=\"https://colab.research.google.com/assets/colab-badge.svg\" alt=\"Open In Colab\"/></a>"
      ]
    },
    {
      "cell_type": "code",
      "metadata": {
        "colab": {
          "base_uri": "https://localhost:8080/"
        },
        "id": "XPtxGIZSFtLK",
        "outputId": "a72b6375-2585-4164-cfcb-a11fd24f833e"
      },
      "source": [
        "\n",
        "n = 100\n",
        "p_numbers = [] \n",
        "for i in range(2, n+1):\n",
        "    if i > 1:\n",
        "        for j in range(2, i):\n",
        "            if(i % j == 0):\n",
        "                break\n",
        "        else:\n",
        "            p_numbers.append(i)\n",
        "print(\"Prime numbers 1 to\",n, \"are:\", p_numbers)"
      ],
      "execution_count": 16,
      "outputs": [
        {
          "output_type": "stream",
          "name": "stdout",
          "text": [
            "Prime numbers 1 to 100 are: [2, 3, 5, 7, 11, 13, 17, 19, 23, 29, 31, 37, 41, 43, 47, 53, 59, 61, 67, 71, 73, 79, 83, 89, 97]\n"
          ]
        }
      ]
    }
  ]
}