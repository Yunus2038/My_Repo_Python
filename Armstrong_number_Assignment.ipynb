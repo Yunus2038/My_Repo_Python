{
  "nbformat": 4,
  "nbformat_minor": 0,
  "metadata": {
    "colab": {
      "name": "Armstrong_number_Assignment.ipynb",
      "provenance": [],
      "authorship_tag": "ABX9TyNgY7AyXSq8rQ3onNwX+VMt",
      "include_colab_link": true
    },
    "kernelspec": {
      "name": "python3",
      "display_name": "Python 3"
    },
    "language_info": {
      "name": "python"
    }
  },
  "cells": [
    {
      "cell_type": "markdown",
      "metadata": {
        "id": "view-in-github",
        "colab_type": "text"
      },
      "source": [
        "<a href=\"https://colab.research.google.com/github/Yunus2038/my_demo_repo/blob/main/Armstrong_number_Assignment.ipynb\" target=\"_parent\"><img src=\"https://colab.research.google.com/assets/colab-badge.svg\" alt=\"Open In Colab\"/></a>"
      ]
    },
    {
      "cell_type": "code",
      "metadata": {
        "colab": {
          "base_uri": "https://localhost:8080/"
        },
        "id": "2SkndYfDUWB2",
        "outputId": "e71f7426-4096-4223-a6af-e5a310bbbb96"
      },
      "source": [
        "number = 407\n",
        "if type(number) != int or number <= 0 :\n",
        "   print( \"It is an invalid entry. Don't use non-numeric, float, or negative values!\")\n",
        "else:\n",
        "  toplam = 0\n",
        "  temp = number\n",
        "  while temp > 0:\n",
        "   digit = temp % 10\n",
        "   toplam += digit ** 3\n",
        "   temp //= 10\n",
        "  if number == toplam:\n",
        "   print(number,\"is an Armstrong number\")\n",
        "  else:\n",
        "   print(number,\"is not an Armstrong number\")"
      ],
      "execution_count": 1,
      "outputs": [
        {
          "output_type": "stream",
          "name": "stdout",
          "text": [
            "407 is an Armstrong number\n"
          ]
        }
      ]
    }
  ]
}