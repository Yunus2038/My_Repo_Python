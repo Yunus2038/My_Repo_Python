{
  "nbformat": 4,
  "nbformat_minor": 0,
  "metadata": {
    "colab": {
      "name": "Untitled5.ipynb",
      "provenance": [],
      "authorship_tag": "ABX9TyNjjJWRO6XGEb6PIYvNzriQ",
      "include_colab_link": true
    },
    "kernelspec": {
      "name": "python3",
      "display_name": "Python 3"
    },
    "language_info": {
      "name": "python"
    }
  },
  "cells": [
    {
      "cell_type": "markdown",
      "metadata": {
        "id": "view-in-github",
        "colab_type": "text"
      },
      "source": [
        "<a href=\"https://colab.research.google.com/github/Yunus2038/my_demo_repo/blob/main/password_reminder.ipynb\" target=\"_parent\"><img src=\"https://colab.research.google.com/assets/colab-badge.svg\" alt=\"Open In Colab\"/></a>"
      ]
    },
    {
      "cell_type": "code",
      "metadata": {
        "id": "A9zvy7INBi4d"
      },
      "source": [
        "enter_name = input(\"Enter your username:\").title()\n",
        "user_name = \"Yunus\"\n",
        "if user_name == enter_name:\n",
        "  print(\"Hello Yunus! Your Password is : qwas123\")\n",
        "else:\n",
        "  print(\"Hello,\", enter_name, \"! See you later.\")"
      ],
      "execution_count": null,
      "outputs": []
    }
  ]
}