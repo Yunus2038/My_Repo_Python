{
  "nbformat": 4,
  "nbformat_minor": 0,
  "metadata": {
    "colab": {
      "name": "Covid-19 Risk Assignment.ipynb",
      "provenance": [],
      "authorship_tag": "ABX9TyNs7jWrTONV00zHJ/ruUlE3",
      "include_colab_link": true
    },
    "kernelspec": {
      "name": "python3",
      "display_name": "Python 3"
    },
    "language_info": {
      "name": "python"
    }
  },
  "cells": [
    {
      "cell_type": "markdown",
      "metadata": {
        "id": "view-in-github",
        "colab_type": "text"
      },
      "source": [
        "<a href=\"https://colab.research.google.com/github/Yunus2038/my_demo_repo/blob/main/Covid_19_Risk_Assignment.ipynb\" target=\"_parent\"><img src=\"https://colab.research.google.com/assets/colab-badge.svg\" alt=\"Open In Colab\"/></a>"
      ]
    },
    {
      "cell_type": "code",
      "metadata": {
        "id": "oYMTpxvMdnHJ"
      },
      "source": [
        "age = input(\"Are you a cigarette addict older than 75 years old?(Y/N):\").title()\n",
        "chronic = input( \"Do you have a severe chronic disease?(Y/N):\").title()\n",
        "immune = input (\"Is your immune system too weak?(Y/N):\").title()\n",
        "if age == \"Yes\" or chronic == \"Yes\" or immune == \"Yes\":\n",
        "  print(\"You are in risky group\")\n",
        "else:\n",
        "  print(\"You are not in risky group\")"
      ],
      "execution_count": null,
      "outputs": []
    }
  ]
}